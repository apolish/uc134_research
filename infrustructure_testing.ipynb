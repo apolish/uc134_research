{
 "cells": [
  {
   "cell_type": "markdown",
   "id": "d7478e72-afb9-49d1-9296-f01d8facd5b9",
   "metadata": {},
   "source": [
    "# 1. Test code running"
   ]
  },
  {
   "cell_type": "code",
   "execution_count": 2,
   "id": "ee263d9b-7b58-44a3-b285-dbc840d11759",
   "metadata": {},
   "outputs": [
    {
     "name": "stdout",
     "output_type": "stream",
     "text": [
      "Value of n: 50015000\n"
     ]
    }
   ],
   "source": [
    "# Using SparkContext's parallelize method\n",
    "rdd = sc.parallelize(range(1, 10001), 10)\n",
    "n = rdd.map(lambda x: x + 1).sum()\n",
    "print(\"Value of n:\", n)\n"
   ]
  },
  {
   "cell_type": "markdown",
   "id": "982b66cc-4077-4169-8b70-eababecd8a3b",
   "metadata": {},
   "source": [
    "# 2. Read three datasets by Spark and print counts for each"
   ]
  },
  {
   "cell_type": "code",
   "execution_count": null,
   "id": "9c322c2e-2c34-4ee0-b11c-323f3e131b16",
   "metadata": {},
   "outputs": [],
   "source": [
    "from pyspark.sql import SparkSession\n",
    "\n",
    "# Initialize Spark session\n",
    "spark = SparkSession.builder \\\n",
    "    .appName(\"Spark CSV file reader\") \\\n",
    "    .getOrCreate()\n",
    "\n",
    "path = \"input_csv_files/\"\n",
    "\n",
    "# List of CSV file paths\n",
    "csvFilePaths = [path + \"clean_me.csv\"]\n",
    "\n",
    "# Iterate through the list of CSV files and count the records\n",
    "for filePath in csvFilePaths:\n",
    "    df = spark.read.option(\"header\", \"true\").csv(filePath)\n",
    "    recordCount = df.count()\n",
    "    print(f\"Number of Records in {filePath}: {recordCount}\")\n"
   ]
  },
  {
   "cell_type": "code",
   "execution_count": null,
   "id": "0455c220-6dca-4be2-a997-35ec554a2b38",
   "metadata": {},
   "outputs": [],
   "source": []
  }
 ],
 "metadata": {
  "kernelspec": {
   "display_name": "Python 3 (ipykernel)",
   "language": "python",
   "name": "python3"
  },
  "language_info": {
   "codemirror_mode": {
    "name": "ipython",
    "version": 3
   },
   "file_extension": ".py",
   "mimetype": "text/x-python",
   "name": "python",
   "nbconvert_exporter": "python",
   "pygments_lexer": "ipython3",
   "version": "3.11.5"
  }
 },
 "nbformat": 4,
 "nbformat_minor": 5
}
