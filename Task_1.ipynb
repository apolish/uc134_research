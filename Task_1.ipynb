{
 "cells": [
  {
   "cell_type": "markdown",
   "id": "5605b14c-06c4-453b-9080-56af209f7940",
   "metadata": {},
   "source": [
    "# 1. Read \"clean_me.csv\" file with marked unknown columns."
   ]
  },
  {
   "cell_type": "code",
   "execution_count": 1,
   "id": "f64ca2a2-a54d-43f1-a29f-1c6ef41724b8",
   "metadata": {},
   "outputs": [
    {
     "name": "stdout",
     "output_type": "stream",
     "text": [
      "+--------+----------------+--------+------+------------+-------------------+--------------------+--------------------+-----+-----+\n",
      "|order_id|delivery_company|quantity| price|ordered_date|            address|                  x1|                  x2|   x3|   x4|\n",
      "+--------+----------------+--------+------+------------+-------------------+--------------------+--------------------+-----+-----+\n",
      "|       1| delivery_comp_1|       1| 245.0|          52|           9/2/2022|  Cedar Lane Houston|            CA 90001| null| null|\n",
      "|       2| delivery_comp_2|       2| 114.0|          77|               null|         Main Street|   New York CA 60601| null| null|\n",
      "|       3| delivery_comp_3|    null| 739.0|          43|          14-3-2022|         Main Street|    Chicago TX 10001| null| null|\n",
      "|       4| delivery_comp_0|       1|878.93|   20/4/2022|         Oak Avenue|Los Angeles FL 90001|                null| null| null|\n",
      "|       5| delivery_comp_1|       2| 481.0|          44|               null| Maple Drive Chicago|            FL 60601| null| null|\n",
      "|       6| delivery_comp_2|     #NA|  78.0|          13|               null|         Main Street|    Houston NY 77001| null| null|\n",
      "|       7| delivery_comp_3|       1|832.17|   20-2-2022|Oak Avenue New York|            CA 10001|                null| null| null|\n",
      "|       8| delivery_comp_0|       2| 687.0|           8|           1/4/2022|         Maple Drive|         Los Angeles|   CA|10001|\n",
      "|       9| delivery_comp_1|     #NA| 338.0|          44|          13/4/2022|    Cedar Lane Miami|            NY 77001| null| null|\n",
      "|      10| delivery_comp_2|       1|461.33|        null|         Oak Avenue|             Chicago|            NY 77001| null| null|\n",
      "|      11| delivery_comp_3|       2|544.33|    8/4/2022|         Oak Avenue|         Los Angeles|            CA 90001| null| null|\n",
      "|      12| delivery_comp_0|      NA| 200.0|          20|               null|          Cedar Lane|Los Angeles FL 77001| null| null|\n",
      "|      13| delivery_comp_1|       1| 939.0|          99|               null|         Main Street|             Chicago|   IL|33101|\n",
      "|      14| delivery_comp_2|       2|  72.0|          69|           2/3/2022|          Oak Avenue|         Los Angeles|   NY|33101|\n",
      "|      15| delivery_comp_3|    null|635.28|   15-2-2022|        Main Street|               Miami|            FL 10001| null| null|\n",
      "|      16| delivery_comp_0|       1|592.83|    2/3/2022|        Main Street|         Los Angeles|                  FL|90001| null|\n",
      "|      17| delivery_comp_1|       2| 533.6|    2/3/2022|        Maple Drive|             Houston|            TX 90001| null| null|\n",
      "|      18| delivery_comp_2|     NaN| 424.7|        null|         Cedar Lane|            New York|            TX 33101| null| null|\n",
      "|      19| delivery_comp_3|       1| 889.0|          97|           4/3/2022|          Elm Street|      Miami TX 90001| null| null|\n",
      "|      20| delivery_comp_0|       2|222.12|   20/3/2022|        Maple Drive|               Miami|            IL 77001| null| null|\n",
      "+--------+----------------+--------+------+------------+-------------------+--------------------+--------------------+-----+-----+\n",
      "only showing top 20 rows\n",
      "\n"
     ]
    }
   ],
   "source": [
    "from pyspark.sql import SparkSession\n",
    "\n",
    "# Initialize Spark session\n",
    "spark = SparkSession.builder \\\n",
    "    .appName(\"Spark CSV file reader\") \\\n",
    "    .getOrCreate()\n",
    "\n",
    "filePath = \"input_csv_files/clean_me.csv\"\n",
    "\n",
    "# Read CSV file with the specified options\n",
    "clean_meDF = spark.read \\\n",
    "  .option(\"header\", \"true\") \\\n",
    "  .option(\"inferSchema\", \"true\") \\\n",
    "  .csv(filePath)\n",
    "\n",
    "# Register the DataFrame as a SQL temporary view\n",
    "clean_meDF.createOrReplaceTempView(\"clean_me\")\n",
    "\n",
    "clean_meDF.show()\n"
   ]
  },
  {
   "cell_type": "markdown",
   "id": "5589c129-3cb2-4eda-916f-62659acaa473",
   "metadata": {},
   "source": [
    "# 2. CSV Format Fixing"
   ]
  },
  {
   "cell_type": "code",
   "execution_count": 5,
   "id": "4fbcd937-9507-4875-a0a5-7186cf11b391",
   "metadata": {},
   "outputs": [
    {
     "name": "stdout",
     "output_type": "stream",
     "text": [
      "+--------+----------------+--------+------+------------+----------------------------------+\n",
      "|order_id|delivery_company|quantity|price |ordered_date|address                           |\n",
      "+--------+----------------+--------+------+------------+----------------------------------+\n",
      "|1       |delivery_comp_1 |52      |245.0 |9/2/2022    |Cedar Lane Houston CA 90001       |\n",
      "|2       |delivery_comp_2 |77      |114.0 |null        |Main Street New York CA 60601     |\n",
      "|3       |delivery_comp_3 |43      |739.0 |14-3-2022   |Main Street Chicago TX 10001      |\n",
      "|4       |delivery_comp_0 |1       |878.93|20/4/2022   |Oak Avenue Los Angeles FL 90001   |\n",
      "|5       |delivery_comp_1 |44      |481.0 |null        |Maple Drive Chicago FL 60601      |\n",
      "|6       |delivery_comp_2 |13      |78.0  |null        |Main Street Houston NY 77001      |\n",
      "|7       |delivery_comp_3 |1       |832.17|20-2-2022   |Oak Avenue New York CA 10001      |\n",
      "|8       |delivery_comp_0 |8       |687.0 |1/4/2022    |Maple Drive Los Angeles CA 10001  |\n",
      "|9       |delivery_comp_1 |44      |338.0 |13/4/2022   |Cedar Lane Miami NY 77001         |\n",
      "|10      |delivery_comp_2 |null    |461.33|null        |Oak Avenue Chicago NY 77001       |\n",
      "|11      |delivery_comp_3 |2       |544.33|8/4/2022    |Oak Avenue Los Angeles CA 90001   |\n",
      "|12      |delivery_comp_0 |20      |200.0 |null        |Cedar Lane Los Angeles FL 77001   |\n",
      "|13      |delivery_comp_1 |99      |939.0 |null        |Main Street Chicago IL 33101      |\n",
      "|14      |delivery_comp_2 |69      |72.0  |2/3/2022    |Oak Avenue Los Angeles NY 33101   |\n",
      "|15      |delivery_comp_3 |null    |635.28|15-2-2022   |Main Street Miami FL 10001        |\n",
      "|16      |delivery_comp_0 |1       |592.83|2/3/2022    |Main Street Los Angeles FL 90001  |\n",
      "|17      |delivery_comp_1 |2       |533.6 |2/3/2022    |Maple Drive Houston TX 90001      |\n",
      "|18      |delivery_comp_2 |null    |424.7 |null        |Cedar Lane New York TX 33101      |\n",
      "|19      |delivery_comp_3 |97      |889.0 |4/3/2022    |Elm Street Miami TX 90001         |\n",
      "|20      |delivery_comp_0 |2       |222.12|20/3/2022   |Maple Drive Miami IL 77001        |\n",
      "+--------+----------------+--------+------+------------+----------------------------------+\n",
      "only showing top 20 rows\n",
      "\n"
     ]
    }
   ],
   "source": [
    "fixedFormatDF = spark.sql(\n",
    "    \"SELECT \" +\n",
    "      \"order_id, \" +\n",
    "      \"delivery_company, \" +\n",
    "      \"CASE \" +\n",
    "        \"WHEN (quantity IS NULL OR quantity IN ('1', '2', 'NA', 'null', '#NA', 'NaN', 'NULL')) AND ordered_date NOT LIKE '%-%' AND ordered_date NOT LIKE '%/%' \" +\n",
    "        \"THEN ordered_date \" +\n",
    "        \"ELSE quantity \" +\n",
    "      \"END AS quantity, \" +\n",
    "      \"price, \" +\n",
    "      \"CASE \" +\n",
    "        \"WHEN ordered_date NOT LIKE '%-%' AND ordered_date NOT LIKE '%/%' AND address = 'null' \" +\n",
    "        \"THEN address \" +\n",
    "        \"WHEN ordered_date NOT LIKE '%-%' AND ordered_date NOT LIKE '%/%' AND (address LIKE '%-%' OR address LIKE '%/%') \" +\n",
    "        \"THEN address \" +\n",
    "        \"ELSE ordered_date \" +\n",
    "      \"END AS ordered_date, \" +\n",
    "      \"CASE \" +\n",
    "        \"WHEN CONTAINS( \" +\n",
    "          \"CONCAT(IFNULL(x1,''), ' ', IFNULL(x2,''), ' ', IFNULL(x3,''), ' ', IFNULL(x4,'')), \" + \n",
    "          \"CASE \" +\n",
    "            \"WHEN address != 'null' AND address NOT LIKE '%-%' AND address NOT LIKE '%/%' \" +\n",
    "            \"THEN address \" +\n",
    "            \"ELSE x1 \" +\n",
    "          \"END) = TRUE \" +\n",
    "        \"THEN CONCAT(IFNULL(x1,''), ' ', IFNULL(x2,''), ' ', IFNULL(x3,''), ' ', IFNULL(x4,'')) \" +\n",
    "        \"ELSE CONCAT( \" +\n",
    "          \"CASE \" +\n",
    "            \"WHEN address != 'null' AND address NOT LIKE '%-%' AND address NOT LIKE '%/%' \" +\n",
    "            \"THEN address \" +\n",
    "            \"ELSE x1 \" +\n",
    "          \"END, \" + \n",
    "          \"' ', \" +\n",
    "          \"CONCAT(IFNULL(x1,''), ' ', IFNULL(x2,''), ' ', IFNULL(x3,''), ' ', IFNULL(x4,''))) \" +\n",
    "      \"END AS address \" +\n",
    "    \"FROM clean_me\"\n",
    ").show(20, truncate=False)"
   ]
  }
 ],
 "metadata": {
  "kernelspec": {
   "display_name": "Python 3 (ipykernel)",
   "language": "python",
   "name": "python3"
  },
  "language_info": {
   "codemirror_mode": {
    "name": "ipython",
    "version": 3
   },
   "file_extension": ".py",
   "mimetype": "text/x-python",
   "name": "python",
   "nbconvert_exporter": "python",
   "pygments_lexer": "ipython3",
   "version": "3.11.5"
  }
 },
 "nbformat": 4,
 "nbformat_minor": 5
}
