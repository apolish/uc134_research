{
 "cells": [
  {
   "cell_type": "markdown",
   "id": "5605b14c-06c4-453b-9080-56af209f7940",
   "metadata": {},
   "source": [
    "# 1. Read \"clean_me.csv\" file with marked unknown columns."
   ]
  },
  {
   "cell_type": "code",
   "execution_count": 4,
   "id": "f64ca2a2-a54d-43f1-a29f-1c6ef41724b8",
   "metadata": {},
   "outputs": [
    {
     "name": "stdout",
     "output_type": "stream",
     "text": [
      "+--------+----------------+--------+------+------------+-------------------+--------------------+--------------------+-----+-----+\n",
      "|order_id|delivery_company|quantity| price|ordered_date|            address|                  x1|                  x2|   x3|   x4|\n",
      "+--------+----------------+--------+------+------------+-------------------+--------------------+--------------------+-----+-----+\n",
      "|       1| delivery_comp_1|       1| 245.0|          52|           9/2/2022|  Cedar Lane Houston|            CA 90001| null| null|\n",
      "|       2| delivery_comp_2|       2| 114.0|          77|               null|         Main Street|   New York CA 60601| null| null|\n",
      "|       3| delivery_comp_3|    null| 739.0|          43|          14-3-2022|         Main Street|    Chicago TX 10001| null| null|\n",
      "|       4| delivery_comp_0|       1|878.93|   20/4/2022|         Oak Avenue|Los Angeles FL 90001|                null| null| null|\n",
      "|       5| delivery_comp_1|       2| 481.0|          44|               null| Maple Drive Chicago|            FL 60601| null| null|\n",
      "|       6| delivery_comp_2|     #NA|  78.0|          13|               null|         Main Street|    Houston NY 77001| null| null|\n",
      "|       7| delivery_comp_3|       1|832.17|   20-2-2022|Oak Avenue New York|            CA 10001|                null| null| null|\n",
      "|       8| delivery_comp_0|       2| 687.0|           8|           1/4/2022|         Maple Drive|         Los Angeles|   CA|10001|\n",
      "|       9| delivery_comp_1|     #NA| 338.0|          44|          13/4/2022|    Cedar Lane Miami|            NY 77001| null| null|\n",
      "|      10| delivery_comp_2|       1|461.33|        null|         Oak Avenue|             Chicago|            NY 77001| null| null|\n",
      "|      11| delivery_comp_3|       2|544.33|    8/4/2022|         Oak Avenue|         Los Angeles|            CA 90001| null| null|\n",
      "|      12| delivery_comp_0|      NA| 200.0|          20|               null|          Cedar Lane|Los Angeles FL 77001| null| null|\n",
      "|      13| delivery_comp_1|       1| 939.0|          99|               null|         Main Street|             Chicago|   IL|33101|\n",
      "|      14| delivery_comp_2|       2|  72.0|          69|           2/3/2022|          Oak Avenue|         Los Angeles|   NY|33101|\n",
      "|      15| delivery_comp_3|    null|635.28|   15-2-2022|        Main Street|               Miami|            FL 10001| null| null|\n",
      "|      16| delivery_comp_0|       1|592.83|    2/3/2022|        Main Street|         Los Angeles|                  FL|90001| null|\n",
      "|      17| delivery_comp_1|       2| 533.6|    2/3/2022|        Maple Drive|             Houston|            TX 90001| null| null|\n",
      "|      18| delivery_comp_2|     NaN| 424.7|        null|         Cedar Lane|            New York|            TX 33101| null| null|\n",
      "|      19| delivery_comp_3|       1| 889.0|          97|           4/3/2022|          Elm Street|      Miami TX 90001| null| null|\n",
      "|      20| delivery_comp_0|       2|222.12|   20/3/2022|        Maple Drive|               Miami|            IL 77001| null| null|\n",
      "+--------+----------------+--------+------+------------+-------------------+--------------------+--------------------+-----+-----+\n",
      "only showing top 20 rows\n",
      "\n"
     ]
    }
   ],
   "source": [
    "from pyspark.sql import SparkSession\n",
    "\n",
    "# Initialize Spark session\n",
    "spark = SparkSession.builder \\\n",
    "    .appName(\"Spark CSV file reader\") \\\n",
    "    .getOrCreate()\n",
    "\n",
    "filePath = \"input_csv_files/clean_me.csv\"\n",
    "\n",
    "# Read CSV file with the specified options\n",
    "clean_meDF = spark.read \\\n",
    "  .option(\"header\", \"true\") \\\n",
    "  .option(\"inferSchema\", \"true\") \\\n",
    "  .csv(filePath)\n",
    "\n",
    "# Register the DataFrame as a SQL temporary view\n",
    "clean_meDF.createOrReplaceTempView(\"clean_me\")\n",
    "\n",
    "clean_meDF.show()\n"
   ]
  },
  {
   "cell_type": "markdown",
   "id": "5589c129-3cb2-4eda-916f-62659acaa473",
   "metadata": {},
   "source": [
    "# 2. CSV Format Fixing"
   ]
  },
  {
   "cell_type": "code",
   "execution_count": 8,
   "id": "4fbcd937-9507-4875-a0a5-7186cf11b391",
   "metadata": {},
   "outputs": [
    {
     "name": "stdout",
     "output_type": "stream",
     "text": [
      "+--------+----------------+--------+------+------------+----------------------------------+\n",
      "|order_id|delivery_company|quantity|price |ordered_date|address                           |\n",
      "+--------+----------------+--------+------+------------+----------------------------------+\n",
      "|1       |delivery_comp_1 |52      |245.0 |9/2/2022    |Cedar Lane Houston CA 90001       |\n",
      "|2       |delivery_comp_2 |77      |114.0 |null        |Main Street New York CA 60601     |\n",
      "|3       |delivery_comp_3 |43      |739.0 |14-3-2022   |Main Street Chicago TX 10001      |\n",
      "|4       |delivery_comp_0 |1       |878.93|20/4/2022   |Oak Avenue Los Angeles FL 90001   |\n",
      "|5       |delivery_comp_1 |44      |481.0 |null        |Maple Drive Chicago FL 60601      |\n",
      "|6       |delivery_comp_2 |13      |78.0  |null        |Main Street Houston NY 77001      |\n",
      "|7       |delivery_comp_3 |1       |832.17|20-2-2022   |Oak Avenue New York CA 10001      |\n",
      "|8       |delivery_comp_0 |8       |687.0 |1/4/2022    |Maple Drive Los Angeles CA 10001  |\n",
      "|9       |delivery_comp_1 |44      |338.0 |13/4/2022   |Cedar Lane Miami NY 77001         |\n",
      "|10      |delivery_comp_2 |null    |461.33|null        |Oak Avenue Chicago NY 77001       |\n",
      "|11      |delivery_comp_3 |2       |544.33|8/4/2022    |Oak Avenue Los Angeles CA 90001   |\n",
      "|12      |delivery_comp_0 |20      |200.0 |null        |Cedar Lane Los Angeles FL 77001   |\n",
      "|13      |delivery_comp_1 |99      |939.0 |null        |Main Street Chicago IL 33101      |\n",
      "|14      |delivery_comp_2 |69      |72.0  |2/3/2022    |Oak Avenue Los Angeles NY 33101   |\n",
      "|15      |delivery_comp_3 |null    |635.28|15-2-2022   |Main Street Miami FL 10001        |\n",
      "|16      |delivery_comp_0 |1       |592.83|2/3/2022    |Main Street Los Angeles FL 90001  |\n",
      "|17      |delivery_comp_1 |2       |533.6 |2/3/2022    |Maple Drive Houston TX 90001      |\n",
      "|18      |delivery_comp_2 |null    |424.7 |null        |Cedar Lane New York TX 33101      |\n",
      "|19      |delivery_comp_3 |97      |889.0 |4/3/2022    |Elm Street Miami TX 90001         |\n",
      "|20      |delivery_comp_0 |2       |222.12|20/3/2022   |Maple Drive Miami IL 77001        |\n",
      "+--------+----------------+--------+------+------------+----------------------------------+\n",
      "only showing top 20 rows\n",
      "\n"
     ]
    }
   ],
   "source": [
    "fixedFormatDF = spark.sql(\n",
    "    \"SELECT \" +\n",
    "      \"order_id, \" +\n",
    "      \"delivery_company, \" +\n",
    "      \"CASE \" +\n",
    "        \"WHEN (quantity IS NULL OR quantity IN ('1', '2', 'NA', 'null', '#NA', 'NaN', 'NULL')) AND ordered_date NOT LIKE '%-%' AND ordered_date NOT LIKE '%/%' \" +\n",
    "        \"THEN ordered_date \" +\n",
    "        \"ELSE quantity \" +\n",
    "      \"END AS quantity, \" +\n",
    "      \"price, \" +\n",
    "      \"CASE \" +\n",
    "        \"WHEN ordered_date NOT LIKE '%-%' AND ordered_date NOT LIKE '%/%' AND address = 'null' \" +\n",
    "        \"THEN address \" +\n",
    "        \"WHEN ordered_date NOT LIKE '%-%' AND ordered_date NOT LIKE '%/%' AND (address LIKE '%-%' OR address LIKE '%/%') \" +\n",
    "        \"THEN address \" +\n",
    "        \"ELSE ordered_date \" +\n",
    "      \"END AS ordered_date, \" +\n",
    "      \"CASE \" +\n",
    "        \"WHEN CONTAINS( \" +\n",
    "          \"CONCAT(IFNULL(x1,''), ' ', IFNULL(x2,''), ' ', IFNULL(x3,''), ' ', IFNULL(x4,'')), \" + \n",
    "          \"CASE \" +\n",
    "            \"WHEN address != 'null' AND address NOT LIKE '%-%' AND address NOT LIKE '%/%' \" +\n",
    "            \"THEN address \" +\n",
    "            \"ELSE x1 \" +\n",
    "          \"END) = TRUE \" +\n",
    "        \"THEN CONCAT(IFNULL(x1,''), ' ', IFNULL(x2,''), ' ', IFNULL(x3,''), ' ', IFNULL(x4,'')) \" +\n",
    "        \"ELSE CONCAT( \" +\n",
    "          \"CASE \" +\n",
    "            \"WHEN address != 'null' AND address NOT LIKE '%-%' AND address NOT LIKE '%/%' \" +\n",
    "            \"THEN address \" +\n",
    "            \"ELSE x1 \" +\n",
    "          \"END, \" + \n",
    "          \"' ', \" +\n",
    "          \"CONCAT(IFNULL(x1,''), ' ', IFNULL(x2,''), ' ', IFNULL(x3,''), ' ', IFNULL(x4,''))) \" +\n",
    "      \"END AS address \" +\n",
    "    \"FROM clean_me\"\n",
    ")\n",
    "\n",
    "fixedFormatDF.show(20, truncate=False)"
   ]
  },
  {
   "cell_type": "markdown",
   "id": "34b32ac4-e4ce-4709-9799-2ea4ef635a9f",
   "metadata": {},
   "source": [
    "# 3. Data Types Fixing"
   ]
  },
  {
   "cell_type": "code",
   "execution_count": 15,
   "id": "ede07b10-0274-49e9-b2c9-c9e2f315a082",
   "metadata": {},
   "outputs": [
    {
     "name": "stdout",
     "output_type": "stream",
     "text": [
      "+--------+----------------+--------+------+------------+-----------------------------------+\n",
      "|order_id|delivery_company|quantity|price |ordered_date|address                            |\n",
      "+--------+----------------+--------+------+------------+-----------------------------------+\n",
      "|1       |delivery_comp_1 |52      |245.00|9-2-2022    |Cedar Lane Houston CA 90001        |\n",
      "|2       |delivery_comp_2 |77      |114.00|null        |Main Street New York CA 60601      |\n",
      "|3       |delivery_comp_3 |43      |739.00|14-3-2022   |Main Street Chicago TX 10001       |\n",
      "|4       |delivery_comp_0 |1       |878.93|20-4-2022   |Oak Avenue Los Angeles FL 90001    |\n",
      "|5       |delivery_comp_1 |44      |481.00|null        |Maple Drive Chicago FL 60601       |\n",
      "|6       |delivery_comp_2 |13      |78.00 |null        |Main Street Houston NY 77001       |\n",
      "|7       |delivery_comp_3 |1       |832.17|20-2-2022   |Oak Avenue New York CA 10001       |\n",
      "|8       |delivery_comp_0 |8       |687.00|1-4-2022    |Maple Drive Los Angeles CA 10001   |\n",
      "|9       |delivery_comp_1 |44      |338.00|13-4-2022   |Cedar Lane Miami NY 77001          |\n",
      "|10      |delivery_comp_2 |null    |461.33|null        |Oak Avenue Chicago NY 77001        |\n",
      "|11      |delivery_comp_3 |2       |544.33|8-4-2022    |Oak Avenue Los Angeles CA 90001    |\n",
      "|12      |delivery_comp_0 |20      |200.00|null        |Cedar Lane Los Angeles FL 77001    |\n",
      "|13      |delivery_comp_1 |99      |939.00|null        |Main Street Chicago IL 33101       |\n",
      "|14      |delivery_comp_2 |69      |72.00 |2-3-2022    |Oak Avenue Los Angeles NY 33101    |\n",
      "|15      |delivery_comp_3 |null    |635.28|15-2-2022   |Main Street Miami FL 10001         |\n",
      "|16      |delivery_comp_0 |1       |592.83|2-3-2022    |Main Street Los Angeles FL 90001   |\n",
      "|17      |delivery_comp_1 |2       |533.60|2-3-2022    |Maple Drive Houston TX 90001       |\n",
      "|18      |delivery_comp_2 |null    |424.70|null        |Cedar Lane New York TX 33101       |\n",
      "|19      |delivery_comp_3 |97      |889.00|4-3-2022    |Elm Street Miami TX 90001          |\n",
      "|20      |delivery_comp_0 |2       |222.12|20-3-2022   |Maple Drive Miami IL 77001         |\n",
      "|21      |delivery_comp_1 |18      |111.00|4-2-2022    |Maple Drive Los Angeles TX 60601   |\n",
      "|22      |delivery_comp_2 |54      |167.00|3-2-2022    |Maple Drive Chicago NY 33101       |\n",
      "|23      |delivery_comp_3 |2       |169.48|25-2-2022   |Cedar Lane Miami IL 10001          |\n",
      "|24      |delivery_comp_0 |#NA     |747.71|16-3-2022   |Cedar Lane Chicago FL 77001        |\n",
      "|25      |delivery_comp_1 |47      |118.00|15-4-2022   |Main Street Los Angeles TX 60601   |\n",
      "|26      |delivery_comp_2 |null    |465.48|null        |Elm Street Los Angeles FL 60601    |\n",
      "|27      |delivery_comp_3 |null    |650.20|null        |Oak Avenue Miami IL 60601          |\n",
      "|28      |delivery_comp_0 |1       |45.88 |9-2-2022    |Main Street Los Angeles IL 33101   |\n",
      "|29      |delivery_comp_1 |48      |749.00|17-3-2022   |Oak Avenue Houston FL 60601        |\n",
      "|30      |delivery_comp_2 |43      |987.00|24-3-2022   |Cedar Lane Miami CA 90001          |\n",
      "|31      |delivery_comp_3 |37      |106.00|null        |Elm Street Miami CA 10001          |\n",
      "|32      |delivery_comp_0 |2       |720.70|20-2-2022   |Oak Avenue New York FL 90001       |\n",
      "|33      |delivery_comp_1 |NULL    |713.49|9-2-2022    |Maple Drive Houston FL 60601       |\n",
      "|34      |delivery_comp_2 |null    |296.94|null        |Maple Drive Chicago CA 60601       |\n",
      "|35      |delivery_comp_3 |2       |76.19 |4-4-2022    |Main Street Los Angeles CA 10001   |\n",
      "|36      |delivery_comp_0 |49      |883.00|19-3-2022   |Maple Drive New York CA 90001      |\n",
      "|37      |delivery_comp_1 |null    |771.72|null        |Elm Street Miami CA 10001          |\n",
      "|38      |delivery_comp_2 |23      |69.00 |null        |Cedar Lane Houston NY 10001        |\n",
      "|39      |delivery_comp_3 |null    |933.20|null        |Elm Street New York FL 33101       |\n",
      "|40      |delivery_comp_0 |1       |238.47|5-3-2022    |Cedar Lane Chicago TX 10001        |\n",
      "|41      |delivery_comp_1 |59      |684.00|10-2-2022   |Maple Drive New York FL 60601      |\n",
      "|42      |delivery_comp_2 |NA      |540.13|8-1-2022    |Maple Drive Los Angeles NY 33101   |\n",
      "|43      |delivery_comp_3 |1       |563.00|15-3-2022   |Cedar Lane Los Angeles CA 77001    |\n",
      "|44      |delivery_comp_0 |75      |187.00|2-2-2022    |Oak Avenue Los Angeles CA 10001    |\n",
      "|45      |delivery_comp_1 |NaN     |951.66|13-3-2022   |Elm Street Los Angeles NY 10001    |\n",
      "|46      |delivery_comp_2 |1       |815.97|19-2-2022   |Main Street Chicago TX 60601       |\n",
      "|47      |delivery_comp_3 |57      |162.00|19-2-2022   |Oak Avenue New York FL 60601       |\n",
      "|48      |delivery_comp_0 |#NA     |279.62|6-1-2022    |Elm Street New York IL 60601       |\n",
      "|49      |delivery_comp_1 |36      |314.00|null        |Cedar Lane Houston NY 10001        |\n",
      "|50      |delivery_comp_2 |2       |410.58|9-2-2022    |Maple Drive New York IL 77001      |\n",
      "+--------+----------------+--------+------+------------+-----------------------------------+\n",
      "only showing top 50 rows\n",
      "\n"
     ]
    }
   ],
   "source": [
    "fixedFormatDF.createOrReplaceTempView(\"fixed_format_df\")\n",
    "\n",
    "dataTypeFixingDF = spark.sql(\n",
    "    \"SELECT \" +\n",
    "      \"order_id, \" +\n",
    "      \"delivery_company, \" +\n",
    "      \"quantity, \" +\n",
    "      \"CAST(price AS DECIMAL(9,2)) AS price, \" +\n",
    "      \"CASE \" +\n",
    "        \"WHEN ordered_date != 'null' \" +\n",
    "        \"THEN replace(ordered_date, '/', '-') \" +\n",
    "        \"ELSE ordered_date \" +\n",
    "      \"END AS ordered_date, \" +\n",
    "      \"address \" +\n",
    "    \"FROM fixed_format_df\"\n",
    ")\n",
    "\n",
    "dataTypeFixingDF.show(50, truncate=False)"
   ]
  },
  {
   "cell_type": "markdown",
   "id": "35fc0f6c-dc1b-4882-af4d-227e17a17f51",
   "metadata": {},
   "source": [
    "# 4. Missing Values Handling"
   ]
  },
  {
   "cell_type": "code",
   "execution_count": 16,
   "id": "d97fe412-a5b5-4e42-b912-938669c89664",
   "metadata": {},
   "outputs": [],
   "source": [
    "# Register the DataFrame as a SQL temporary view\n",
    "dataTypeFixingDF.createOrReplaceTempView(\"data_type_fixing\")"
   ]
  },
  {
   "cell_type": "markdown",
   "id": "ba9c0deb-10f7-43ac-8444-27d8db30e5e2",
   "metadata": {},
   "source": [
    "## • Replace missing quantity values with average values for each delivery company"
   ]
  },
  {
   "cell_type": "code",
   "execution_count": 18,
   "id": "1fd26432-67e7-4304-84fa-9c7757a8b1d4",
   "metadata": {},
   "outputs": [
    {
     "name": "stdout",
     "output_type": "stream",
     "text": [
      "+----------------+------------------+\n",
      "|delivery_company|      avg_quantity|\n",
      "+----------------+------------------+\n",
      "| delivery_comp_1|34.771702111136996|\n",
      "| delivery_comp_3| 34.76116785079929|\n",
      "| delivery_comp_2|  34.6890914946307|\n",
      "| delivery_comp_0|34.621575989158686|\n",
      "+----------------+------------------+\n",
      "\n"
     ]
    }
   ],
   "source": [
    "avgQuantityByDeliveryCompanyDF = spark.sql(\n",
    "    \"SELECT \" +\n",
    "      \"delivery_company, \" +\n",
    "      \"AVG(quantity) AS avg_quantity \" +\n",
    "    \"FROM data_type_fixing \" +\n",
    "    \"WHERE ISNAN(quantity) != 1 AND quantity IS NOT null AND quantity NOT IN ('null', 'NULL', 'NaN', '#NA', 'NA') \" +\n",
    "    \"GROUP BY delivery_company\"\n",
    ")\n",
    "\n",
    "avgQuantityByDeliveryCompanyDF.show()"
   ]
  },
  {
   "cell_type": "code",
   "execution_count": 19,
   "id": "e8457260-f646-410d-99b1-a8945648d9d8",
   "metadata": {},
   "outputs": [],
   "source": [
    "# Register the DataFrame as a SQL temporary view\n",
    "avgQuantityByDeliveryCompanyDF.createOrReplaceTempView(\"avg_quantity_by_delivery_company\")"
   ]
  },
  {
   "cell_type": "code",
   "execution_count": 20,
   "id": "a558042c-a6d0-4504-8fed-345d946cf0ef",
   "metadata": {},
   "outputs": [
    {
     "name": "stdout",
     "output_type": "stream",
     "text": [
      "+--------+----------------+------------------+------+------------+-----------------------------------+\n",
      "|order_id|delivery_company|quantity          |price |ordered_date|address                            |\n",
      "+--------+----------------+------------------+------+------------+-----------------------------------+\n",
      "|1       |delivery_comp_1 |52                |245.00|9-2-2022    |Cedar Lane Houston CA 90001        |\n",
      "|2       |delivery_comp_2 |77                |114.00|null        |Main Street New York CA 60601      |\n",
      "|3       |delivery_comp_3 |43                |739.00|14-3-2022   |Main Street Chicago TX 10001       |\n",
      "|4       |delivery_comp_0 |1                 |878.93|20-4-2022   |Oak Avenue Los Angeles FL 90001    |\n",
      "|5       |delivery_comp_1 |44                |481.00|null        |Maple Drive Chicago FL 60601       |\n",
      "|6       |delivery_comp_2 |13                |78.00 |null        |Main Street Houston NY 77001       |\n",
      "|7       |delivery_comp_3 |1                 |832.17|20-2-2022   |Oak Avenue New York CA 10001       |\n",
      "|8       |delivery_comp_0 |8                 |687.00|1-4-2022    |Maple Drive Los Angeles CA 10001   |\n",
      "|9       |delivery_comp_1 |44                |338.00|13-4-2022   |Cedar Lane Miami NY 77001          |\n",
      "|10      |delivery_comp_2 |34.6890914946307  |461.33|null        |Oak Avenue Chicago NY 77001        |\n",
      "|11      |delivery_comp_3 |2                 |544.33|8-4-2022    |Oak Avenue Los Angeles CA 90001    |\n",
      "|12      |delivery_comp_0 |20                |200.00|null        |Cedar Lane Los Angeles FL 77001    |\n",
      "|13      |delivery_comp_1 |99                |939.00|null        |Main Street Chicago IL 33101       |\n",
      "|14      |delivery_comp_2 |69                |72.00 |2-3-2022    |Oak Avenue Los Angeles NY 33101    |\n",
      "|15      |delivery_comp_3 |34.76116785079929 |635.28|15-2-2022   |Main Street Miami FL 10001         |\n",
      "|16      |delivery_comp_0 |1                 |592.83|2-3-2022    |Main Street Los Angeles FL 90001   |\n",
      "|17      |delivery_comp_1 |2                 |533.60|2-3-2022    |Maple Drive Houston TX 90001       |\n",
      "|18      |delivery_comp_2 |34.6890914946307  |424.70|null        |Cedar Lane New York TX 33101       |\n",
      "|19      |delivery_comp_3 |97                |889.00|4-3-2022    |Elm Street Miami TX 90001          |\n",
      "|20      |delivery_comp_0 |2                 |222.12|20-3-2022   |Maple Drive Miami IL 77001         |\n",
      "|21      |delivery_comp_1 |18                |111.00|4-2-2022    |Maple Drive Los Angeles TX 60601   |\n",
      "|22      |delivery_comp_2 |54                |167.00|3-2-2022    |Maple Drive Chicago NY 33101       |\n",
      "|23      |delivery_comp_3 |2                 |169.48|25-2-2022   |Cedar Lane Miami IL 10001          |\n",
      "|24      |delivery_comp_0 |34.621575989158686|747.71|16-3-2022   |Cedar Lane Chicago FL 77001        |\n",
      "|25      |delivery_comp_1 |47                |118.00|15-4-2022   |Main Street Los Angeles TX 60601   |\n",
      "|26      |delivery_comp_2 |34.6890914946307  |465.48|null        |Elm Street Los Angeles FL 60601    |\n",
      "|27      |delivery_comp_3 |34.76116785079929 |650.20|null        |Oak Avenue Miami IL 60601          |\n",
      "|28      |delivery_comp_0 |1                 |45.88 |9-2-2022    |Main Street Los Angeles IL 33101   |\n",
      "|29      |delivery_comp_1 |48                |749.00|17-3-2022   |Oak Avenue Houston FL 60601        |\n",
      "|30      |delivery_comp_2 |43                |987.00|24-3-2022   |Cedar Lane Miami CA 90001          |\n",
      "|31      |delivery_comp_3 |37                |106.00|null        |Elm Street Miami CA 10001          |\n",
      "|32      |delivery_comp_0 |2                 |720.70|20-2-2022   |Oak Avenue New York FL 90001       |\n",
      "|33      |delivery_comp_1 |34.771702111136996|713.49|9-2-2022    |Maple Drive Houston FL 60601       |\n",
      "|34      |delivery_comp_2 |34.6890914946307  |296.94|null        |Maple Drive Chicago CA 60601       |\n",
      "|35      |delivery_comp_3 |2                 |76.19 |4-4-2022    |Main Street Los Angeles CA 10001   |\n",
      "|36      |delivery_comp_0 |49                |883.00|19-3-2022   |Maple Drive New York CA 90001      |\n",
      "|37      |delivery_comp_1 |34.771702111136996|771.72|null        |Elm Street Miami CA 10001          |\n",
      "|38      |delivery_comp_2 |23                |69.00 |null        |Cedar Lane Houston NY 10001        |\n",
      "|39      |delivery_comp_3 |34.76116785079929 |933.20|null        |Elm Street New York FL 33101       |\n",
      "|40      |delivery_comp_0 |1                 |238.47|5-3-2022    |Cedar Lane Chicago TX 10001        |\n",
      "|41      |delivery_comp_1 |59                |684.00|10-2-2022   |Maple Drive New York FL 60601      |\n",
      "|42      |delivery_comp_2 |34.6890914946307  |540.13|8-1-2022    |Maple Drive Los Angeles NY 33101   |\n",
      "|43      |delivery_comp_3 |1                 |563.00|15-3-2022   |Cedar Lane Los Angeles CA 77001    |\n",
      "|44      |delivery_comp_0 |75                |187.00|2-2-2022    |Oak Avenue Los Angeles CA 10001    |\n",
      "|45      |delivery_comp_1 |34.771702111136996|951.66|13-3-2022   |Elm Street Los Angeles NY 10001    |\n",
      "|46      |delivery_comp_2 |1                 |815.97|19-2-2022   |Main Street Chicago TX 60601       |\n",
      "|47      |delivery_comp_3 |57                |162.00|19-2-2022   |Oak Avenue New York FL 60601       |\n",
      "|48      |delivery_comp_0 |34.621575989158686|279.62|6-1-2022    |Elm Street New York IL 60601       |\n",
      "|49      |delivery_comp_1 |36                |314.00|null        |Cedar Lane Houston NY 10001        |\n",
      "|50      |delivery_comp_2 |2                 |410.58|9-2-2022    |Maple Drive New York IL 77001      |\n",
      "+--------+----------------+------------------+------+------------+-----------------------------------+\n",
      "only showing top 50 rows\n",
      "\n"
     ]
    }
   ],
   "source": [
    "missingQuantityValuesDF = spark.sql(\n",
    "    \"SELECT \" +\n",
    "      \"dtf.order_id, \" +\n",
    "      \"dtf.delivery_company,\" +\n",
    "      \"CASE \" +\n",
    "        \"WHEN ISNAN(dtf.quantity) != 0 OR dtf.quantity IS null OR dtf.quantity IN ('null', 'NULL', 'NaN', '#NA', 'NA') \" +\n",
    "        \"THEN aq.avg_quantity \" +\n",
    "        \"ELSE dtf.quantity \" +\n",
    "      \"END AS quantity, \" +\n",
    "      \"dtf.price, \" +\n",
    "      \"dtf.ordered_date, \" +\n",
    "      \"dtf.address \" +\n",
    "    \"FROM data_type_fixing AS dtf \" +\n",
    "      \"LEFT OUTER JOIN avg_quantity_by_delivery_company AS aq ON aq.delivery_company = dtf.delivery_company\"\n",
    ")\n",
    "\n",
    "missingQuantityValuesDF.show(50, truncate=False)"
   ]
  },
  {
   "cell_type": "markdown",
   "id": "6e210e1d-de24-4fad-bb7f-29f5297841b2",
   "metadata": {},
   "source": [
    "## • Replace a null date in the ordered_date column with the following chronological date after a valid date for orders fulfilled by the same delivery company."
   ]
  },
  {
   "cell_type": "code",
   "execution_count": 22,
   "id": "733caf66-90f6-4a78-922c-8ebcde7d9184",
   "metadata": {},
   "outputs": [],
   "source": [
    "from pyspark.sql.functions import when, lit, col\n",
    "from pyspark.sql.types import StringType\n",
    "\n",
    "# Convert the values in 'ordered_date' column to null if they are \"null\" strings\n",
    "setAsNullDF = missingQuantityValuesDF \\\n",
    "    .withColumn(\"ordered_date\", when(col(\"ordered_date\") == \"null\", lit(None).cast(StringType())).otherwise(col(\"ordered_date\")))\n",
    "\n",
    "# Register the DataFrame as a temporary SQL view\n",
    "setAsNullDF.createOrReplaceTempView(\"setAsNullDF\")\n"
   ]
  },
  {
   "cell_type": "code",
   "execution_count": 23,
   "id": "6deea16a-111e-4c12-af76-d61510e16228",
   "metadata": {},
   "outputs": [
    {
     "name": "stdout",
     "output_type": "stream",
     "text": [
      "+--------+----------------+------------------+------+------------+-----------------------------------+\n",
      "|order_id|delivery_company|quantity          |price |ordered_date|address                            |\n",
      "+--------+----------------+------------------+------+------------+-----------------------------------+\n",
      "|1       |delivery_comp_1 |52                |245.00|9-2-2022    |Cedar Lane Houston CA 90001        |\n",
      "|2       |delivery_comp_2 |77                |114.00|null        |Main Street New York CA 60601      |\n",
      "|3       |delivery_comp_3 |43                |739.00|14-3-2022   |Main Street Chicago TX 10001       |\n",
      "|4       |delivery_comp_0 |1                 |878.93|20-4-2022   |Oak Avenue Los Angeles FL 90001    |\n",
      "|5       |delivery_comp_1 |44                |481.00|9-2-2022    |Maple Drive Chicago FL 60601       |\n",
      "|6       |delivery_comp_2 |13                |78.00 |null        |Main Street Houston NY 77001       |\n",
      "|7       |delivery_comp_3 |1                 |832.17|20-2-2022   |Oak Avenue New York CA 10001       |\n",
      "|8       |delivery_comp_0 |8                 |687.00|1-4-2022    |Maple Drive Los Angeles CA 10001   |\n",
      "|9       |delivery_comp_1 |44                |338.00|13-4-2022   |Cedar Lane Miami NY 77001          |\n",
      "|10      |delivery_comp_2 |34.6890914946307  |461.33|null        |Oak Avenue Chicago NY 77001        |\n",
      "|11      |delivery_comp_3 |2                 |544.33|8-4-2022    |Oak Avenue Los Angeles CA 90001    |\n",
      "|12      |delivery_comp_0 |20                |200.00|1-4-2022    |Cedar Lane Los Angeles FL 77001    |\n",
      "|13      |delivery_comp_1 |99                |939.00|13-4-2022   |Main Street Chicago IL 33101       |\n",
      "|14      |delivery_comp_2 |69                |72.00 |2-3-2022    |Oak Avenue Los Angeles NY 33101    |\n",
      "|15      |delivery_comp_3 |34.76116785079929 |635.28|15-2-2022   |Main Street Miami FL 10001         |\n",
      "|16      |delivery_comp_0 |1                 |592.83|2-3-2022    |Main Street Los Angeles FL 90001   |\n",
      "|17      |delivery_comp_1 |2                 |533.60|2-3-2022    |Maple Drive Houston TX 90001       |\n",
      "|18      |delivery_comp_2 |34.6890914946307  |424.70|2-3-2022    |Cedar Lane New York TX 33101       |\n",
      "|19      |delivery_comp_3 |97                |889.00|4-3-2022    |Elm Street Miami TX 90001          |\n",
      "|20      |delivery_comp_0 |2                 |222.12|20-3-2022   |Maple Drive Miami IL 77001         |\n",
      "|21      |delivery_comp_1 |18                |111.00|4-2-2022    |Maple Drive Los Angeles TX 60601   |\n",
      "|22      |delivery_comp_2 |54                |167.00|3-2-2022    |Maple Drive Chicago NY 33101       |\n",
      "|23      |delivery_comp_3 |2                 |169.48|25-2-2022   |Cedar Lane Miami IL 10001          |\n",
      "|24      |delivery_comp_0 |34.621575989158686|747.71|16-3-2022   |Cedar Lane Chicago FL 77001        |\n",
      "|25      |delivery_comp_1 |47                |118.00|15-4-2022   |Main Street Los Angeles TX 60601   |\n",
      "|26      |delivery_comp_2 |34.6890914946307  |465.48|3-2-2022    |Elm Street Los Angeles FL 60601    |\n",
      "|27      |delivery_comp_3 |34.76116785079929 |650.20|25-2-2022   |Oak Avenue Miami IL 60601          |\n",
      "|28      |delivery_comp_0 |1                 |45.88 |9-2-2022    |Main Street Los Angeles IL 33101   |\n",
      "|29      |delivery_comp_1 |48                |749.00|17-3-2022   |Oak Avenue Houston FL 60601        |\n",
      "|30      |delivery_comp_2 |43                |987.00|24-3-2022   |Cedar Lane Miami CA 90001          |\n",
      "|31      |delivery_comp_3 |37                |106.00|null        |Elm Street Miami CA 10001          |\n",
      "|32      |delivery_comp_0 |2                 |720.70|20-2-2022   |Oak Avenue New York FL 90001       |\n",
      "|33      |delivery_comp_1 |34.771702111136996|713.49|9-2-2022    |Maple Drive Houston FL 60601       |\n",
      "|34      |delivery_comp_2 |34.6890914946307  |296.94|24-3-2022   |Maple Drive Chicago CA 60601       |\n",
      "|35      |delivery_comp_3 |2                 |76.19 |4-4-2022    |Main Street Los Angeles CA 10001   |\n",
      "|36      |delivery_comp_0 |49                |883.00|19-3-2022   |Maple Drive New York CA 90001      |\n",
      "|37      |delivery_comp_1 |34.771702111136996|771.72|9-2-2022    |Elm Street Miami CA 10001          |\n",
      "|38      |delivery_comp_2 |23                |69.00 |null        |Cedar Lane Houston NY 10001        |\n",
      "|39      |delivery_comp_3 |34.76116785079929 |933.20|4-4-2022    |Elm Street New York FL 33101       |\n",
      "|40      |delivery_comp_0 |1                 |238.47|5-3-2022    |Cedar Lane Chicago TX 10001        |\n",
      "|41      |delivery_comp_1 |59                |684.00|10-2-2022   |Maple Drive New York FL 60601      |\n",
      "|42      |delivery_comp_2 |34.6890914946307  |540.13|8-1-2022    |Maple Drive Los Angeles NY 33101   |\n",
      "|43      |delivery_comp_3 |1                 |563.00|15-3-2022   |Cedar Lane Los Angeles CA 77001    |\n",
      "|44      |delivery_comp_0 |75                |187.00|2-2-2022    |Oak Avenue Los Angeles CA 10001    |\n",
      "|45      |delivery_comp_1 |34.771702111136996|951.66|13-3-2022   |Elm Street Los Angeles NY 10001    |\n",
      "|46      |delivery_comp_2 |1                 |815.97|19-2-2022   |Main Street Chicago TX 60601       |\n",
      "|47      |delivery_comp_3 |57                |162.00|19-2-2022   |Oak Avenue New York FL 60601       |\n",
      "|48      |delivery_comp_0 |34.621575989158686|279.62|6-1-2022    |Elm Street New York IL 60601       |\n",
      "|49      |delivery_comp_1 |36                |314.00|13-3-2022   |Cedar Lane Houston NY 10001        |\n",
      "|50      |delivery_comp_2 |2                 |410.58|9-2-2022    |Maple Drive New York IL 77001      |\n",
      "+--------+----------------+------------------+------+------------+-----------------------------------+\n",
      "only showing top 50 rows\n",
      "\n"
     ]
    }
   ],
   "source": [
    "replaceNullDateDF = spark.sql(\n",
    "    \"SELECT \" +\n",
    "        \"sn.order_id, \" +\n",
    "        \"sn.delivery_company, \" +\n",
    "        \"sn.quantity, \" +\n",
    "        \"sn.price, \" +\n",
    "        \"COALESCE(cte.ordered_date, cte.previous_ordered_date) AS ordered_date, \" +\n",
    "        \"sn.address \" +\n",
    "    \"FROM setAsNullDF AS sn \" +\n",
    "        \"INNER JOIN ( \" +\n",
    "            \"SELECT \" +\n",
    "                \"order_id, \" +\n",
    "                \"delivery_company, \" +\n",
    "                \"ordered_date, \" +\n",
    "                \"LAG(ordered_date) OVER (PARTITION BY delivery_company ORDER BY order_id) AS previous_ordered_date \" +\n",
    "            \"FROM \" +\n",
    "                \"setAsNullDF \" +\n",
    "        \") AS cte ON cte.order_id = sn.order_id \" +\n",
    "    \"ORDER BY sn.order_id\"\n",
    ").show(50, truncate=False)"
   ]
  },
  {
   "cell_type": "markdown",
   "id": "158519c2-59b3-47a7-ac56-3d4b8b581043",
   "metadata": {},
   "source": [
    "## • Set the previous valid record as the end of the month If the next valid record is missing. "
   ]
  },
  {
   "cell_type": "markdown",
   "id": "722a3994-5522-469a-9f86-dce46f04cae6",
   "metadata": {},
   "source": [
    "<span style=\"color:red; font-weight:bold\">\n",
    "    FYI. The last sub-task is not clear even based on the sugessted example in the description! I was just thinking aproximatly for 2 hours looking for approach on how to start doing that.\n",
    "</span>."
   ]
  }
 ],
 "metadata": {
  "kernelspec": {
   "display_name": "Python 3 (ipykernel)",
   "language": "python",
   "name": "python3"
  },
  "language_info": {
   "codemirror_mode": {
    "name": "ipython",
    "version": 3
   },
   "file_extension": ".py",
   "mimetype": "text/x-python",
   "name": "python",
   "nbconvert_exporter": "python",
   "pygments_lexer": "ipython3",
   "version": "3.11.5"
  }
 },
 "nbformat": 4,
 "nbformat_minor": 5
}
